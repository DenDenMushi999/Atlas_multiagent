{
 "cells": [
  {
   "cell_type": "code",
   "execution_count": 2,
   "metadata": {},
   "outputs": [
    {
     "data": {
      "text/plain": [
       "(208, 208, 80)"
      ]
     },
     "execution_count": 2,
     "metadata": {},
     "output_type": "execute_result"
    }
   ],
   "source": [
    "import numpy as np \n",
    "PATH = 'results/release/semseg/test_final/'\n",
    "semseg = np.load(f'{PATH}sample1.npz')['semseg']\n",
    "semseg.shape"
   ]
  },
  {
   "cell_type": "code",
   "execution_count": 3,
   "metadata": {},
   "outputs": [],
   "source": [
    "for i in range(208):\n",
    "    for j in range(208):\n",
    "        for k in range(80):\n",
    "            if semseg[i, j, k] == -1:\n",
    "                print(semseg[i, j, k])\n"
   ]
  },
  {
   "cell_type": "code",
   "execution_count": 4,
   "metadata": {},
   "outputs": [
    {
     "name": "stdout",
     "output_type": "stream",
     "text": [
      "[[1 1 1 1 1 1 1 1 1 1 1 2 2 2 2 2 2 2 2 2 2 2 2 2 2 2 2 2 2 2 2 2 2 2 2 2\n",
      "  2 2 2 2 2 2 2 1 1 1 1 1 1 2 2 2 2 2 2 2 2 2 2 2 2 2 2 2 2 2 2 2 2 2 2 2\n",
      "  2 2 2 2 2 2 2 2]]\n"
     ]
    },
    {
     "data": {
      "image/png": "[encoded data removed]",
      "text/plain": [
       "<Figure size 1600x200 with 1 Axes>"
      ]
     },
     "metadata": {},
     "output_type": "display_data"
    }
   ],
   "source": [
    "from matplotlib import pyplot as plt\n",
    "import cv2\n",
    "plt.matshow(semseg[0,0:1,:])\n",
    "print(semseg[0,0:1,:])"
   ]
  },
  {
   "cell_type": "code",
   "execution_count": 5,
   "metadata": {},
   "outputs": [],
   "source": [
    "tsdf = np.load(f'{PATH}sample1.npz')['tsdf']\n",
    "for i in range(208):\n",
    "    for j in range(208):\n",
    "        for k in range(80):\n",
    "            if tsdf[i, j, k] == 1:\n",
    "                print(tsdf[i, j, k])"
   ]
  },
  {
   "cell_type": "code",
   "execution_count": 6,
   "metadata": {},
   "outputs": [
    {
     "name": "stdout",
     "output_type": "stream",
     "text": [
      "(208, 208, 80)\n"
     ]
    }
   ],
   "source": [
    "print(semseg.shape)"
   ]
  },
  {
   "cell_type": "code",
   "execution_count": 7,
   "metadata": {},
   "outputs": [
    {
     "name": "stdout",
     "output_type": "stream",
     "text": [
      "(208, 208, 80)\n"
     ]
    }
   ],
   "source": [
    "x = np.arange(0,208)\n",
    "y = np.arange(0,208)\n",
    "z = np.arange(0,80)\n",
    "\n",
    "X, Y, Z = np.meshgrid(x, y, z, indexing='ij')\n",
    "\n",
    "print(X.shape)\n",
    "\n",
    "#Filter classes here and plot them in 3D\n"
   ]
  },
  {
   "cell_type": "code",
   "execution_count": 11,
   "metadata": {},
   "outputs": [
    {
     "name": "stdout",
     "output_type": "stream",
     "text": [
      "{'length': 123453, 'properties': OrderedDict([('x', '<f4'), ('y', '<f4'), ('z', '<f4'), ('red', '<u1'), ('green', '<u1'), ('blue', '<u1'), ('alpha', '<u1'), ('semseg', '<i8')]), 'data': array([(0.11866904, 3.9199998, 1.78     , 174, 199, 232, 255, 1),\n",
      "       (0.12      , 3.9199998, 1.7694876, 174, 199, 232, 255, 1),\n",
      "       (0.12      , 3.9163966, 1.78     , 174, 199, 232, 255, 1), ...,\n",
      "       (8.28      , 6.4541674, 1.8599999, 174, 199, 232, 255, 1),\n",
      "       (8.28      , 6.446529 , 1.8999999, 174, 199, 232, 255, 1),\n",
      "       (8.28      , 6.44072  , 1.94     , 174, 199, 232, 255, 1)],\n",
      "      dtype=[('x', '<f4'), ('y', '<f4'), ('z', '<f4'), ('red', 'u1'), ('green', 'u1'), ('blue', 'u1'), ('alpha', 'u1'), ('semseg', '<i8')])}\n",
      "0.6999999 0.2264778\n",
      "0.2264778\n",
      "2.6599998\n",
      "(8.28, 6.2000585, 0.33999997)\n"
     ]
    }
   ],
   "source": [
    "import trimesh\n",
    "from trimesh.exchange.ply import parse_header, ply_binary\n",
    "PATH = 'results/release/semseg/test_final/sample.ply'\n",
    "with open(PATH, 'rb') as f:\n",
    "    elements, is_ascii, image_name = parse_header(f)\n",
    "    ply_binary(elements, f)\n",
    "vertex_labels = elements['vertex']['data']['semseg']\n",
    "vertex= elements['vertex']['data']\n",
    "#print(vertex[0][0])\n",
    "\n",
    "coord_wall = []\n",
    "coord_floor = []\n",
    "z_f = []\n",
    "z_w = []\n",
    "for v in vertex:\n",
    "    if v[-1] == 1:\n",
    "        x = v[0]\n",
    "        y = v[1]\n",
    "        z = v[2]\n",
    "        z_w.append(v[2])\n",
    "        coord_wall.append((x, y, z))\n",
    "    elif v[-1] == 2:\n",
    "        #print(v)\n",
    "        x = v[0]\n",
    "        y = v[1]\n",
    "        z = v[2]\n",
    "        z_f.append(v[2])\n",
    "        coord_floor.append((x, y, z))\n",
    "    elif v[-3] == 0 and v[-5]== 0 and v[-4]==0:\n",
    "        print(v)\n",
    "print(elements['vertex'])\n",
    "print(np.max(z_f), np.min(z_f))\n",
    "print(np.min(z_f))\n",
    "print(np.max(z_w))\n",
    "print(max(coord_floor))\n",
    "# print(vertex)"
   ]
  },
  {
   "cell_type": "code",
   "execution_count": 121,
   "metadata": {},
   "outputs": [
    {
     "name": "stdout",
     "output_type": "stream",
     "text": [
      "[[ 0.   0.  -0.5]]\n"
     ]
    }
   ],
   "source": [
    "PATH = 'results/release/semseg/test_final/'\n",
    "origin = np.load(f'{PATH}sample1.npz')['origin']\n",
    "print(origin)"
   ]
  },
  {
   "cell_type": "code",
   "execution_count": 127,
   "metadata": {},
   "outputs": [
    {
     "data": {
      "text/plain": [
       "1"
      ]
     },
     "execution_count": 127,
     "metadata": {},
     "output_type": "execute_result"
    }
   ],
   "source": []
  },
  {
   "cell_type": "code",
   "execution_count": null,
   "metadata": {},
   "outputs": [],
   "source": []
  }
 ],
 "metadata": {
  "kernelspec": {
   "display_name": "Python 3.8.10 64-bit",
   "language": "python",
   "name": "python3"
  },
  "language_info": {
   "codemirror_mode": {
    "name": "ipython",
    "version": 3
   },
   "file_extension": ".py",
   "mimetype": "text/x-python",
   "name": "python",
   "nbconvert_exporter": "python",
   "pygments_lexer": "ipython3",
   "version": "3.8.10"
  },
  "orig_nbformat": 4,
  "vscode": {
   "interpreter": {
    "hash": "916dbcbb3f70747c44a77c7bcd40155683ae19c65e1c03b4aa3499c5328201f1"
   }
  }
 },
 "nbformat": 4,
 "nbformat_minor": 2
}
