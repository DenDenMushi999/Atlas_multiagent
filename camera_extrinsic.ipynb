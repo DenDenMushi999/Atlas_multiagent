{
 "cells": [
  {
   "cell_type": "code",
   "execution_count": 37,
   "metadata": {},
   "outputs": [],
   "source": [
    "\n",
    "import matplotlib.pyplot as plt\n",
    "import numpy as np\n",
    "import cv2\n",
    "import glob\n",
    "import re\n",
    "import os\n"
   ]
  },
  {
   "cell_type": "code",
   "execution_count": 38,
   "metadata": {},
   "outputs": [],
   "source": [
    "def parse_data(PATH):\n",
    "    files = glob.glob(f'{PATH}*[0-9].txt')\n",
    "    files = sorted(files, key=lambda x:int(re.findall(\"(\\d+)\",x)[-1]))\n",
    "\n",
    "    poses = [None]*len(files)\n",
    "    coord = []\n",
    "    angles = []\n",
    "\n",
    "\n",
    "    for i, f in enumerate(files):\n",
    "        \n",
    "    #print(np.loadtxt(i))\n",
    "        with open(f) as f_input:\n",
    "            \n",
    "            lines = f_input.readlines()\n",
    "            \n",
    "        poses[i] = []\n",
    "        for m in lines:\n",
    "            m = re.sub(r'\\[|\\]' ,'', m)\n",
    "            m = [float(s) for s in m.split()]\n",
    "            poses[i] = poses[i] + m\n",
    "\n",
    "        \n",
    "    for i in range(len(poses)):\n",
    "        coord.append((poses[i][0], poses[i][1], poses[i][2]))\n",
    "        \n",
    "\n",
    "    for i in range(len(poses)):\n",
    "        angles.append((poses[i][3], poses[i][4], poses[i][5]))\n",
    "\n",
    "    return angles, coord\n"
   ]
  },
  {
   "cell_type": "code",
   "execution_count": 48,
   "metadata": {},
   "outputs": [],
   "source": [
    "def get_rot(angles):\n",
    "    R = np.array(angles)\n",
    "    R, J = cv2.Rodrigues(R)\n",
    "    return R\n",
    "\n",
    "def get_translation(coord):\n",
    "    z = coord[2]\n",
    "    x = coord[0]\n",
    "    y = coord[1]\n",
    "\n",
    "    offset_vicon_to_base = np.array([108, 0, -13.4])\n",
    "    offset_base_to_rgb = np.array([10, 32, 13])\n",
    "    #From vicon link to base link\n",
    "    \n",
    "    T = np.array([coord[0], coord[1], coord[2]])\n",
    "    T = T + offset_vicon_to_base\n",
    "    T = T + offset_base_to_rgb\n",
    "    T = T*10**(-3)\n",
    "    return T\n",
    "\n",
    "def get_intrinsic(fx, fy, cx, cy):\n",
    "    intrin = np.array([[fx, 0 , cx],\n",
    "                       [0, fy, cy],\n",
    "                       [0, 0, 1]])\n",
    "\n",
    "    return intrin"
   ]
  },
  {
   "cell_type": "code",
   "execution_count": 49,
   "metadata": {},
   "outputs": [
    {
     "ename": "FileNotFoundError",
     "evalue": "[Errno 2] No such file or directory: '/home/iana/Atlas/drone_view/poses/00000001.txt'",
     "output_type": "error",
     "traceback": [
      "\u001b[0;31m---------------------------------------------------------------------------\u001b[0m",
      "\u001b[0;31mFileNotFoundError\u001b[0m                         Traceback (most recent call last)",
      "Cell \u001b[0;32mIn [49], line 33\u001b[0m\n\u001b[1;32m     30\u001b[0m     cam_param\u001b[39m=\u001b[39m get_intrinsic(fx, fy, cx, cy)\n\u001b[1;32m     31\u001b[0m     np\u001b[39m.\u001b[39msavetxt(\u001b[39mf\u001b[39m\u001b[39m'\u001b[39m\u001b[39m{\u001b[39;00moutdir\u001b[39m}\u001b[39;00m\u001b[39mintrinsics.txt\u001b[39m\u001b[39m'\u001b[39m, cam_param)\n\u001b[0;32m---> 33\u001b[0m main()\n",
      "Cell \u001b[0;32mIn [49], line 28\u001b[0m, in \u001b[0;36mmain\u001b[0;34m()\u001b[0m\n\u001b[1;32m     25\u001b[0m     pose_matrix\u001b[39m.\u001b[39mappend(transform)\n\u001b[1;32m     27\u001b[0m \u001b[39mfor\u001b[39;00m i, t \u001b[39min\u001b[39;00m \u001b[39menumerate\u001b[39m(pose_matrix):\n\u001b[0;32m---> 28\u001b[0m     np\u001b[39m.\u001b[39;49msavetxt(\u001b[39mf\u001b[39;49m\u001b[39m'\u001b[39;49m\u001b[39m{\u001b[39;49;00moutdir\u001b[39m}\u001b[39;49;00m\u001b[39mposes/\u001b[39;49m\u001b[39m{\u001b[39;49;00mi\u001b[39m+\u001b[39;49m\u001b[39m1\u001b[39;49m\u001b[39m:\u001b[39;49;00m\u001b[39m08\u001b[39;49m\u001b[39m}\u001b[39;49;00m\u001b[39m.txt\u001b[39;49m\u001b[39m'\u001b[39;49m, t)\n\u001b[1;32m     30\u001b[0m cam_param\u001b[39m=\u001b[39m get_intrinsic(fx, fy, cx, cy)\n\u001b[1;32m     31\u001b[0m np\u001b[39m.\u001b[39msavetxt(\u001b[39mf\u001b[39m\u001b[39m'\u001b[39m\u001b[39m{\u001b[39;00moutdir\u001b[39m}\u001b[39;00m\u001b[39mintrinsics.txt\u001b[39m\u001b[39m'\u001b[39m, cam_param)\n",
      "File \u001b[0;32m<__array_function__ internals>:180\u001b[0m, in \u001b[0;36msavetxt\u001b[0;34m(*args, **kwargs)\u001b[0m\n",
      "File \u001b[0;32m~/.local/lib/python3.8/site-packages/numpy/lib/npyio.py:1523\u001b[0m, in \u001b[0;36msavetxt\u001b[0;34m(fname, X, fmt, delimiter, newline, header, footer, comments, encoding)\u001b[0m\n\u001b[1;32m   1520\u001b[0m     fname \u001b[39m=\u001b[39m os_fspath(fname)\n\u001b[1;32m   1521\u001b[0m \u001b[39mif\u001b[39;00m _is_string_like(fname):\n\u001b[1;32m   1522\u001b[0m     \u001b[39m# datasource doesn't support creating a new file ...\u001b[39;00m\n\u001b[0;32m-> 1523\u001b[0m     \u001b[39mopen\u001b[39;49m(fname, \u001b[39m'\u001b[39;49m\u001b[39mwt\u001b[39;49m\u001b[39m'\u001b[39;49m)\u001b[39m.\u001b[39mclose()\n\u001b[1;32m   1524\u001b[0m     fh \u001b[39m=\u001b[39m np\u001b[39m.\u001b[39mlib\u001b[39m.\u001b[39m_datasource\u001b[39m.\u001b[39mopen(fname, \u001b[39m'\u001b[39m\u001b[39mwt\u001b[39m\u001b[39m'\u001b[39m, encoding\u001b[39m=\u001b[39mencoding)\n\u001b[1;32m   1525\u001b[0m     own_fh \u001b[39m=\u001b[39m \u001b[39mTrue\u001b[39;00m\n",
      "\u001b[0;31mFileNotFoundError\u001b[0m: [Errno 2] No such file or directory: '/home/iana/Atlas/drone_view/poses/00000001.txt'"
     ]
    }
   ],
   "source": [
    "def main():\n",
    "    pose_matrix = []\n",
    "    transform = np.zeros((4,4))\n",
    "\n",
    "    fx = 615.671\n",
    "    fy = 615.962\n",
    "    cx = 328.001\n",
    "    cy = 241.31\n",
    "\n",
    "    outdir = '/home/iana/Atlas/drone_view/'\n",
    "    indir = '/home/iana/Atlas/drone_view/poses_raw/'\n",
    "\n",
    "    angles = parse_data(indir)[0]\n",
    "    coord = parse_data(indir)[1]\n",
    "\n",
    "    for ang, c in zip(angles, coord):\n",
    "        R = get_rot(ang)\n",
    "        R = R.T\n",
    "        transform[0:3, 0:3] = R\n",
    "        \n",
    "\n",
    "        T = get_translation(c)\n",
    "        transform[0:3, 3] = -T\n",
    "        transform[3, 3] = 1\n",
    "        pose_matrix.append(transform)\n",
    "    \n",
    "    for i, t in enumerate(pose_matrix):\n",
    "        np.savetxt(f'{outdir}poses/{i+1:08}.txt', t)\n",
    "    \n",
    "    cam_param= get_intrinsic(fx, fy, cx, cy)\n",
    "    np.savetxt(f'{outdir}intrinsics.txt', cam_param)\n",
    "\n",
    "main()\n"
   ]
  },
  {
   "cell_type": "code",
   "execution_count": null,
   "metadata": {},
   "outputs": [],
   "source": [
    "outdir = '/home/iana/Atlas/drone_view/color/'\n",
    "\n",
    "\n",
    "for i, f in enumerate(os.listdir(outdir)):\n",
    "\n",
    "    old_name = f'{outdir}{i+1:07}.jpg'\n",
    "    new_name = f'{outdir}{i+1:08}.jpg'\n",
    "\n",
    "    # Renaming the file\n",
    "    os.rename(old_name, new_name)"
   ]
  },
  {
   "cell_type": "code",
   "execution_count": 52,
   "metadata": {},
   "outputs": [],
   "source": [
    "def main():\n",
    "    pose_matrix = []\n",
    "    transform = np.zeros((4,4))\n",
    "\n",
    "    fx = 615.671\n",
    "    fy = 615.962\n",
    "    cx = 328.001\n",
    "    cy = 241.31\n",
    "\n",
    "    outdir = '/home/iana/Atlas/drone_view/'\n",
    "    indir = '/home/iana/Atlas/drone_view/poses_raw/'\n",
    "\n",
    "    angles = parse_data(indir)[0]\n",
    "    coord = parse_data(indir)[1]\n",
    "\n",
    "\n",
    "    tx = -90*(np.pi/180)\n",
    "    ty = 0.776*(np.pi/180)\n",
    "    tz = -90*(np.pi/180)\n",
    "    # Rx = [[1, 0, 0], [0, np.cos(tx), -np.sin(tx)], [0, np.sin(tx), np.cos(tx)]]\n",
    "    # Ry = [[np.cos(ty), 0, np.sin(ty)], [0, 1, 0], [-np.sin(ty), 0, np.cos(ty)]]\n",
    "    # Rz = [[np.cos(tz), -np.sin(tz), 0], [np.sin(tz), np.cos(tz), 0], [0, 0, 1]]\n",
    "    R_base_to_camera_color_opt = get_rot((tx, ty, tz))\n",
    "    for ang, c in zip(angles, coord):\n",
    "        R = get_rot(ang)\n",
    "        R = R_base_to_camera_color_opt @ R\n",
    "        # R = np.matmul(Rz, np.matmul(Ry, np.matmul(Rx, R)))\n",
    "        transform[0:3, 0:3] = R\n",
    "        \n",
    "\n",
    "        T = get_translation(c)\n",
    "        transform[0:3, 3] = T\n",
    "        transform[3, 3] = 1\n",
    "        \n",
    "        pose_matrix.append(transform)\n",
    "    \n",
    "    for i, t in enumerate(pose_matrix):\n",
    "        np.savetxt(f'{outdir}pose/{i+1:08}.txt', t)\n",
    "    \n",
    "    cam_param= get_intrinsic(fx, fy, cx, cy)\n",
    "    np.savetxt(f'{outdir}intrinsics.txt', cam_param)\n",
    "\n",
    "main()"
   ]
  },
  {
   "cell_type": "code",
   "execution_count": null,
   "metadata": {},
   "outputs": [],
   "source": []
  },
  {
   "cell_type": "code",
   "execution_count": null,
   "metadata": {},
   "outputs": [],
   "source": []
  },
  {
   "cell_type": "code",
   "execution_count": null,
   "metadata": {},
   "outputs": [],
   "source": []
  },
  {
   "cell_type": "code",
   "execution_count": null,
   "metadata": {},
   "outputs": [],
   "source": []
  },
  {
   "cell_type": "code",
   "execution_count": null,
   "metadata": {},
   "outputs": [],
   "source": []
  },
  {
   "cell_type": "code",
   "execution_count": null,
   "metadata": {},
   "outputs": [],
   "source": []
  },
  {
   "cell_type": "code",
   "execution_count": null,
   "metadata": {},
   "outputs": [],
   "source": []
  },
  {
   "cell_type": "code",
   "execution_count": null,
   "metadata": {},
   "outputs": [],
   "source": []
  },
  {
   "cell_type": "code",
   "execution_count": null,
   "metadata": {},
   "outputs": [],
   "source": []
  },
  {
   "cell_type": "code",
   "execution_count": null,
   "metadata": {},
   "outputs": [],
   "source": []
  },
  {
   "cell_type": "code",
   "execution_count": null,
   "metadata": {},
   "outputs": [],
   "source": []
  },
  {
   "cell_type": "code",
   "execution_count": null,
   "metadata": {},
   "outputs": [],
   "source": []
  },
  {
   "cell_type": "code",
   "execution_count": null,
   "metadata": {},
   "outputs": [],
   "source": []
  },
  {
   "cell_type": "code",
   "execution_count": null,
   "metadata": {},
   "outputs": [],
   "source": []
  },
  {
   "cell_type": "code",
   "execution_count": null,
   "metadata": {},
   "outputs": [],
   "source": [
    "\n"
   ]
  }
 ],
 "metadata": {
  "kernelspec": {
   "display_name": "Python 3.8.10 64-bit",
   "language": "python",
   "name": "python3"
  },
  "language_info": {
   "codemirror_mode": {
    "name": "ipython",
    "version": 3
   },
   "file_extension": ".py",
   "mimetype": "text/x-python",
   "name": "python",
   "nbconvert_exporter": "python",
   "pygments_lexer": "ipython3",
   "version": "3.8.10"
  },
  "orig_nbformat": 4,
  "vscode": {
   "interpreter": {
    "hash": "916dbcbb3f70747c44a77c7bcd40155683ae19c65e1c03b4aa3499c5328201f1"
   }
  }
 },
 "nbformat": 4,
 "nbformat_minor": 2
}
